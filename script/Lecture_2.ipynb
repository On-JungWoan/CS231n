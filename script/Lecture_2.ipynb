{
  "nbformat": 4,
  "nbformat_minor": 0,
  "metadata": {
    "colab": {
      "provenance": []
    },
    "kernelspec": {
      "name": "python3",
      "display_name": "Python 3"
    },
    "language_info": {
      "name": "python"
    },
    "accelerator": "GPU",
    "gpuClass": "standard"
  },
  "cells": [
    {
      "cell_type": "markdown",
      "source": [
        "## 0. Import Library & Dataset"
      ],
      "metadata": {
        "id": "9pXHujQKgE6i"
      }
    },
    {
      "cell_type": "code",
      "execution_count": 20,
      "metadata": {
        "id": "OnQnIQguHdNQ"
      },
      "outputs": [],
      "source": [
        "import numpy as np\n",
        "from sklearn.model_selection import train_test_split\n",
        "import matplotlib.pyplot as plt\n",
        "from collections import Counter\n",
        "from tqdm import tqdm\n",
        "\n",
        "def unpickle(file):\n",
        "    import pickle\n",
        "    with open(file, 'rb') as fo:\n",
        "        dict = pickle.load(fo, encoding='bytes')\n",
        "    return dict\n",
        "\n",
        "data = unpickle('/content/drive/MyDrive/data_batch_1')    \n",
        "X = data[b'data']\n",
        "y = data[b'labels']\n",
        "\n",
        "x_train, x_test, y_train, y_test = train_test_split(X, y, test_size=0.1)"
      ]
    },
    {
      "cell_type": "markdown",
      "source": [
        "## 1. Define Model"
      ],
      "metadata": {
        "id": "cvkOmJ-mgPpj"
      }
    },
    {
      "cell_type": "code",
      "source": [
        "## 거리척도\n",
        "def calc_l1_distance(x_train, x_test):\n",
        "  return np.sum(np.abs(x_train - x_test), axis=1)\n",
        "\n",
        "def calc_l2_distance(x_train, x_test):\n",
        "  return np.sqrt(np.sum(np.square(x_train - x_test), axis=1))\n",
        "\n",
        "## NN\n",
        "class NearstNeighbor():\n",
        "  def __init__(self):\n",
        "    pass\n",
        "\n",
        "  def train(self, X, y):\n",
        "    self.X_tr = X\n",
        "    self.y_tr = y\n",
        "\n",
        "  def cal_distance(self, x_train, x_test, use_l1):\n",
        "    if use_l1:\n",
        "      distance = calc_l1_distance(x_train, x_test)\n",
        "    else:\n",
        "      distance = calc_l2_distance(x_train, x_test)    \n",
        "    return distance\n",
        "\n",
        "  def predict(self, X, use_l1=True):\n",
        "    num_test = X.shape[0]\n",
        "    y_pred = np.zeros(num_test)\n",
        "\n",
        "    for i in tqdm(range(num_test)):\n",
        "      distance = self.cal_distance(self.X_tr, X[i], use_l1)\n",
        "      min_index = np.argmin(distance)\n",
        "\n",
        "      y_pred[i] = self.y_tr[min_index]\n",
        "\n",
        "    return y_pred\n",
        "\n",
        "## K-NN\n",
        "class K_NearstNeighbor(NearstNeighbor):\n",
        "  def predict(self, k, X, use_l1=True):\n",
        "    num_test = X.shape[0]\n",
        "    y_pred = np.zeros(num_test)\n",
        "\n",
        "    for i in tqdm(range(num_test)):\n",
        "      distance = self.cal_distance(self.X_tr, X[i], use_l1)    \n",
        "      min_indices = np.argsort(distance)[:k].tolist()\n",
        "\n",
        "      y_pred[i] = Counter(np.array(self.y_tr)[min_indices]).most_common(1)[0][0]\n",
        "\n",
        "    return y_pred"
      ],
      "metadata": {
        "id": "pB1pLEuMHfaA"
      },
      "execution_count": 155,
      "outputs": []
    },
    {
      "cell_type": "markdown",
      "source": [
        "## 2. L1, L2 distance"
      ],
      "metadata": {
        "id": "DoWQRFUigXzC"
      }
    },
    {
      "cell_type": "code",
      "source": [
        "x1 = np.array([[56, 32, 10, 18, 90, 23, 128, 133, 24, 26, 178, 200, 2, 0, 255, 220]])\n",
        "x2 = np.array([[10, 20, 24, 17, 8, 10, 89, 100, 12, 16, 178, 170, 4, 32, 233, 112]])\n",
        "\n",
        "l1_dist = calc_l1_distance(x1, x2)\n",
        "l2_dist = calc_l2_distance(x1, x2)\n",
        "\n",
        "print(l1_dist, l2_dist, sep=\"\\n\")"
      ],
      "metadata": {
        "colab": {
          "base_uri": "https://localhost:8080/"
        },
        "id": "tLRWQE98HhT4",
        "outputId": "ae18eaa1-20f1-4aba-937c-5c7c4b1fc1cd"
      },
      "execution_count": 74,
      "outputs": [
        {
          "output_type": "stream",
          "name": "stdout",
          "text": [
            "[456]\n",
            "[162.11107303]\n"
          ]
        }
      ]
    },
    {
      "cell_type": "markdown",
      "source": [
        "## 3. Train model"
      ],
      "metadata": {
        "id": "Z2H7uSA4ho6a"
      }
    },
    {
      "cell_type": "markdown",
      "source": [
        "### 3-1) NN"
      ],
      "metadata": {
        "id": "CRF7LC5-sD3R"
      }
    },
    {
      "cell_type": "code",
      "source": [
        "# train\n",
        "nn = NearstNeighbor()\n",
        "nn.train(x_train, y_train)\n",
        "\n",
        "# pred\n",
        "l1_y_pred = nn.predict(x_test[:300])\n",
        "l2_y_pred = nn.predict(x_test[:300], False)"
      ],
      "metadata": {
        "colab": {
          "base_uri": "https://localhost:8080/"
        },
        "id": "Z8MeYzGBMQV0",
        "outputId": "849041cc-adaa-46c7-98cc-6415fe96d16b"
      },
      "execution_count": 104,
      "outputs": [
        {
          "output_type": "stream",
          "name": "stderr",
          "text": [
            "100%|██████████| 300/300 [00:11<00:00, 25.74it/s]\n",
            "100%|██████████| 300/300 [00:11<00:00, 25.87it/s]\n"
          ]
        }
      ]
    },
    {
      "cell_type": "markdown",
      "source": [
        "시간이 너무 오래 걸리는 관계로 300개 데이터셋에 대해서만 pred"
      ],
      "metadata": {
        "id": "qO35_b7Els6O"
      }
    },
    {
      "cell_type": "code",
      "source": [
        "# accuracy score 계산\n",
        "from sklearn.metrics import accuracy_score\n",
        "\n",
        "print(\n",
        "    accuracy_score(y_test[:300], l1_y_pred),\n",
        "    accuracy_score(y_test[:300], l2_y_pred),\n",
        "    sep = '\\n'\n",
        ")"
      ],
      "metadata": {
        "colab": {
          "base_uri": "https://localhost:8080/"
        },
        "id": "AjIGgsmwjvPo",
        "outputId": "271d4da9-d996-4a0f-cd4e-31b2b4f5ce92"
      },
      "execution_count": 105,
      "outputs": [
        {
          "output_type": "stream",
          "name": "stdout",
          "text": [
            "0.21333333333333335\n",
            "0.20333333333333334\n"
          ]
        }
      ]
    },
    {
      "cell_type": "markdown",
      "source": [
        "L1, L2 모두 20%정도의 Accuracy 보여줌"
      ],
      "metadata": {
        "id": "snSx5rhslzRX"
      }
    },
    {
      "cell_type": "markdown",
      "source": [
        "## 3-2 K-NN"
      ],
      "metadata": {
        "id": "9pQT0uJisHHw"
      }
    },
    {
      "cell_type": "code",
      "source": [
        "# train\n",
        "k_nn = K_NearstNeighbor()\n",
        "k_nn.train(x_train, y_train)\n",
        "\n",
        "# pred\n",
        "l2_y_pred = k_nn.predict(3, x_test[:300], False)"
      ],
      "metadata": {
        "colab": {
          "base_uri": "https://localhost:8080/"
        },
        "id": "eBgutdyhsJXY",
        "outputId": "a7745d7b-21fd-47aa-ae91-378430236c24"
      },
      "execution_count": 197,
      "outputs": [
        {
          "output_type": "stream",
          "name": "stderr",
          "text": [
            "100%|██████████| 300/300 [00:11<00:00, 25.62it/s]\n"
          ]
        }
      ]
    },
    {
      "cell_type": "code",
      "source": [
        "# accuracy score 계산\n",
        "from sklearn.metrics import accuracy_score\n",
        "\n",
        "print(\n",
        "    accuracy_score(y_test[:300], l2_y_pred),\n",
        "    sep = '\\n'\n",
        ")"
      ],
      "metadata": {
        "colab": {
          "base_uri": "https://localhost:8080/"
        },
        "id": "yWGs7-hftWuQ",
        "outputId": "0bfa9a3a-8e00-43ba-dacc-b32753031f68"
      },
      "execution_count": 199,
      "outputs": [
        {
          "output_type": "stream",
          "name": "stdout",
          "text": [
            "0.23\n"
          ]
        }
      ]
    },
    {
      "cell_type": "markdown",
      "source": [
        "그리 큰 차이는 없는 것 같다."
      ],
      "metadata": {
        "id": "g58mdFXVxr6c"
      }
    }
  ]
}